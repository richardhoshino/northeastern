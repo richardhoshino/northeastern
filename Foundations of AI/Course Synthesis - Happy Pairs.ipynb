{
 "cells": [
  {
   "cell_type": "code",
   "execution_count": 1,
   "metadata": {},
   "outputs": [],
   "source": [
    "# importsys\n",
    "# !{sys.executable} -m pip install ortools \n",
    "\n",
    "import pandas as pd\n",
    "import numpy as np\n",
    "import time\n",
    "from ortools.sat.python import cp_model"
   ]
  },
  {
   "cell_type": "code",
   "execution_count": 2,
   "metadata": {},
   "outputs": [
    {
     "name": "stdout",
     "output_type": "stream",
     "text": [
      "Total Time was 0.015625 seconds\n",
      "\n",
      "We found a solution\n"
     ]
    }
   ],
   "source": [
    "StartTime = time.process_time()\n",
    "\n",
    "Happy = cp_model.CpModel()\n",
    "\n",
    "\n",
    "# Define our variables: there are 15 students, 5 groups, 7 days\n",
    "\n",
    "Students = [1,2,3,4,5,6,7,8,9,10,11,12,13,14,15]\n",
    "Groups = [1,2,3,4,5]\n",
    "Days = [1,2,3,4,5,6,7]\n",
    "\n",
    "\n",
    "# Define the boolean variable X[s,g,d], which equals 1 if student s \n",
    "# works in group g on day d, and is equal to 0 otherwise.\n",
    "\n",
    "X = {}\n",
    "for s in Students:\n",
    "    for g in Groups:\n",
    "        for d in Days:\n",
    "            X[s,g,d] = Happy.NewIntVar(0, 1, 'X[%d,%d,%d]'%(s,g,d))\n",
    "        \n",
    "        \n",
    "# Constraint 1: each student is assigned to one group\n",
    "# TO BE ADDED\n",
    "\n",
    "\n",
    "# Constraint 2: each group has exactly three students\n",
    "# TO BE ADDED\n",
    "\n",
    "\n",
    "# Constraint 3: students i and j must be in the same group exactly once\n",
    "# Alternatively, this constraint is identical to the following:\n",
    "# \"students i and j cannot be in the same group more than once\"\n",
    "# This is because there are n=15 students and d = (n-1)/2 = 7 days.\n",
    "#\n",
    "# TO BE ADDED\n",
    "\n",
    "\n",
    "    \n",
    "solver = cp_model.CpSolver()\n",
    "status = solver.Solve(Happy)\n",
    "                \n",
    "totalTime = time.process_time() - StartTime\n",
    "print(\"Total Time was\", totalTime, \"seconds\")\n",
    "print(\"\")\n",
    "\n",
    "if status == cp_model.FEASIBLE:\n",
    "    print(\"We found a solution\")\n",
    "    for d in Days:\n",
    "        for g in Groups:\n",
    "            for s in Students:\n",
    "                if solver.Value(X[s,g,d])==1:\n",
    "                    print(\"Day\", d, \"Group\", g, \"Student\", s)\n",
    "                "
   ]
  },
  {
   "cell_type": "code",
   "execution_count": null,
   "metadata": {},
   "outputs": [],
   "source": []
  }
 ],
 "metadata": {
  "kernelspec": {
   "display_name": "Python 3",
   "language": "python",
   "name": "python3"
  },
  "language_info": {
   "codemirror_mode": {
    "name": "ipython",
    "version": 3
   },
   "file_extension": ".py",
   "mimetype": "text/x-python",
   "name": "python",
   "nbconvert_exporter": "python",
   "pygments_lexer": "ipython3",
   "version": "3.7.3"
  }
 },
 "nbformat": 4,
 "nbformat_minor": 2
}
