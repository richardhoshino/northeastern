{
 "cells": [
  {
   "cell_type": "code",
   "execution_count": 1,
   "metadata": {},
   "outputs": [],
   "source": [
    "# Python program to demonstrate PreOrder, InOrder, PostOrder\n",
    "# Credit: https://www.geeksforgeeks.org/tree-traversals-inorder-preorder-and-postorder/\n",
    "\n",
    "class Vertex: \n",
    "    def __init__(self,key): \n",
    "        self.left = None\n",
    "        self.right = None\n",
    "        self.val = key \n",
    "\n",
    "def Preorder(root): \n",
    "    if root: \n",
    "        print(root.val), \n",
    "        Preorder(root.left)\n",
    "        Preorder(root.right) \n",
    "        \n",
    "def Inorder(root): \n",
    "    if root: \n",
    "        Inorder(root.left) \n",
    "        print(root.val)  \n",
    "        Inorder(root.right) \n",
    "\n",
    "def Postorder(root): \n",
    "    if root: \n",
    "        Postorder(root.left) \n",
    "        Postorder(root.right) \n",
    "        print(root.val)"
   ]
  },
  {
   "cell_type": "code",
   "execution_count": 4,
   "metadata": {},
   "outputs": [
    {
     "name": "stdout",
     "output_type": "stream",
     "text": [
      "This is Preorder\n",
      "1\n",
      "2\n",
      "4\n",
      "5\n",
      "3\n",
      "\n",
      "This is Inorder\n",
      "4\n",
      "2\n",
      "5\n",
      "1\n",
      "3\n",
      "\n",
      "This is Postorder\n",
      "4\n",
      "5\n",
      "2\n",
      "3\n",
      "1\n"
     ]
    }
   ],
   "source": [
    "root = Vertex(1) \n",
    "root.left = Vertex(2) \n",
    "root.right = Vertex(3) \n",
    "root.left.left = Vertex(4) \n",
    "root.left.right = Vertex(5)\n",
    "\n",
    "print(\"This is Preorder Traversal\")\n",
    "Preorder(root) \n",
    "print(\"\")\n",
    "print(\"This is Inorder Traversal\")\n",
    "Inorder(root) \n",
    "print(\"\")\n",
    "print(\"This is Postorder Traversal\")\n",
    "Postorder(root) "
   ]
  }
 ],
 "metadata": {
  "kernelspec": {
   "display_name": "Python 3",
   "language": "python",
   "name": "python3"
  },
  "language_info": {
   "codemirror_mode": {
    "name": "ipython",
    "version": 3
   },
   "file_extension": ".py",
   "mimetype": "text/x-python",
   "name": "python",
   "nbconvert_exporter": "python",
   "pygments_lexer": "ipython3",
   "version": "3.7.3"
  }
 },
 "nbformat": 4,
 "nbformat_minor": 2
}
