{
 "cells": [
  {
   "cell_type": "code",
   "execution_count": 1,
   "metadata": {},
   "outputs": [],
   "source": [
    "# Python program for Heapsort.\n",
    "# Credit: https://rosettacode.org/wiki/Sorting_algorithms/Heapsort#Python\n",
    "# Richard made some minor modifications to list and count the swaps\n",
    "\n",
    "def heapsort(lst):\n",
    "    ''' Heapsort. Note: this function sorts in-place (it mutates the list). '''\n",
    "    global swaps\n",
    "    swaps = 0\n",
    "    \n",
    "    print(\"BUILD-MAX-HEAP\")\n",
    "    # in pseudo-code, heapify only called once, so inline it here\n",
    "    for start in range(int((len(lst)-2)/2), -1, -1):\n",
    "        siftdown(lst, start, len(lst)-1)\n",
    "    \n",
    "    print(\"\")\n",
    "    print(\"RUN MAX-HEAPIFY n times\")\n",
    "    for end in range(len(lst)-1, 0, -1):\n",
    "        lst[end], lst[0] = lst[0], lst[end]\n",
    "        swaps += 1\n",
    "        print(\"swap\", lst[end], \"and\", lst[0], \"to get\", lst)\n",
    "        siftdown(lst, 0, end - 1)\n",
    "    print(\"\")\n",
    "    print(\"Total number of swaps is\", swaps)\n",
    " \n",
    "    \n",
    "def siftdown(lst, start, end):\n",
    "    global swaps\n",
    "    root = start\n",
    "    while True:\n",
    "        child = root * 2 + 1\n",
    "        if child > end: break\n",
    "        if child + 1 <= end and lst[child] < lst[child + 1]:\n",
    "              child += 1\n",
    "        if lst[root] < lst[child]:\n",
    "            x, y = lst[child], lst[root]\n",
    "            lst[root], lst[child] = lst[child], lst[root]\n",
    "            root = child\n",
    "            swaps += 1\n",
    "            print(\"swap\", x, \"and\", y, \"to get\", lst)\n",
    "        else:\n",
    "            break"
   ]
  },
  {
   "cell_type": "code",
   "execution_count": 2,
   "metadata": {},
   "outputs": [
    {
     "name": "stdout",
     "output_type": "stream",
     "text": [
      "BUILD-MAX-HEAP\n",
      "swap 7 and 3 to get [1, 2, 7, 4, 5, 6, 3]\n",
      "swap 5 and 2 to get [1, 5, 7, 4, 2, 6, 3]\n",
      "swap 7 and 1 to get [7, 5, 1, 4, 2, 6, 3]\n",
      "swap 6 and 1 to get [7, 5, 6, 4, 2, 1, 3]\n",
      "\n",
      "RUN MAX-HEAPIFY n times\n",
      "swap 7 and 3 to get [3, 5, 6, 4, 2, 1, 7]\n",
      "swap 6 and 3 to get [6, 5, 3, 4, 2, 1, 7]\n",
      "swap 6 and 1 to get [1, 5, 3, 4, 2, 6, 7]\n",
      "swap 5 and 1 to get [5, 1, 3, 4, 2, 6, 7]\n",
      "swap 4 and 1 to get [5, 4, 3, 1, 2, 6, 7]\n",
      "swap 5 and 2 to get [2, 4, 3, 1, 5, 6, 7]\n",
      "swap 4 and 2 to get [4, 2, 3, 1, 5, 6, 7]\n",
      "swap 4 and 1 to get [1, 2, 3, 4, 5, 6, 7]\n",
      "swap 3 and 1 to get [3, 2, 1, 4, 5, 6, 7]\n",
      "swap 3 and 1 to get [1, 2, 3, 4, 5, 6, 7]\n",
      "swap 2 and 1 to get [2, 1, 3, 4, 5, 6, 7]\n",
      "swap 2 and 1 to get [1, 2, 3, 4, 5, 6, 7]\n",
      "\n",
      "Total number of swaps is 16\n"
     ]
    }
   ],
   "source": [
    "heapsort([1,2,3,4,5,6,7])"
   ]
  },
  {
   "cell_type": "code",
   "execution_count": 3,
   "metadata": {},
   "outputs": [
    {
     "name": "stdout",
     "output_type": "stream",
     "text": [
      "BUILD-MAX-HEAP\n",
      "\n",
      "RUN MAX-HEAPIFY n times\n",
      "swap 7 and 1 to get [1, 6, 5, 4, 3, 2, 7]\n",
      "swap 6 and 1 to get [6, 1, 5, 4, 3, 2, 7]\n",
      "swap 4 and 1 to get [6, 4, 5, 1, 3, 2, 7]\n",
      "swap 6 and 2 to get [2, 4, 5, 1, 3, 6, 7]\n",
      "swap 5 and 2 to get [5, 4, 2, 1, 3, 6, 7]\n",
      "swap 5 and 3 to get [3, 4, 2, 1, 5, 6, 7]\n",
      "swap 4 and 3 to get [4, 3, 2, 1, 5, 6, 7]\n",
      "swap 4 and 1 to get [1, 3, 2, 4, 5, 6, 7]\n",
      "swap 3 and 1 to get [3, 1, 2, 4, 5, 6, 7]\n",
      "swap 3 and 2 to get [2, 1, 3, 4, 5, 6, 7]\n",
      "swap 2 and 1 to get [1, 2, 3, 4, 5, 6, 7]\n",
      "\n",
      "Total number of swaps is 11\n"
     ]
    }
   ],
   "source": [
    "heapsort([7,6,5,4,3,2,1])"
   ]
  },
  {
   "cell_type": "code",
   "execution_count": 4,
   "metadata": {},
   "outputs": [],
   "source": [
    "# BREAKOUT ACTIVITY\n",
    "\n",
    "# Can you find a permutation of [1,2,3,4,5,6,7] where the total number of swaps is maximized?\n",
    "# Can you find a permutation of [1,2,3,4,5,6,7] where the total number of swaps is minimized?"
   ]
  }
 ],
 "metadata": {
  "kernelspec": {
   "display_name": "Python 3",
   "language": "python",
   "name": "python3"
  },
  "language_info": {
   "codemirror_mode": {
    "name": "ipython",
    "version": 3
   },
   "file_extension": ".py",
   "mimetype": "text/x-python",
   "name": "python",
   "nbconvert_exporter": "python",
   "pygments_lexer": "ipython3",
   "version": "3.7.3"
  }
 },
 "nbformat": 4,
 "nbformat_minor": 2
}
