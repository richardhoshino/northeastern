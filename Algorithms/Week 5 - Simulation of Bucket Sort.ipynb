{
 "cells": [
  {
   "cell_type": "code",
   "execution_count": 1,
   "metadata": {},
   "outputs": [],
   "source": [
    "import random\n",
    "import math\n",
    "import numpy as np\n",
    "\n",
    "def single_simulation(n):\n",
    "    \n",
    "    # Set up the n buckets\n",
    "    buckets = [0 for i in range(n)]\n",
    "\n",
    "    # For each of the n objects, randomly place them into a bucket\n",
    "    for i in range(n):\n",
    "        j = random.randrange(0,n)\n",
    "        buckets[j] += 1\n",
    "\n",
    "    # For each integer k, count the number of buckets with k objects\n",
    "    answer = [0 for k in range(n+1)]\n",
    "    for j in range(n):\n",
    "        answer[buckets[j]]+=1\n",
    "    return answer\n",
    "\n",
    "\n",
    "def full_simulation(n, r):\n",
    "    \n",
    "    # Run the experiment r rounds, keeping track of our total counts\n",
    "    counts = [0 for k in range(n+1)]\n",
    "    for i in range(r):\n",
    "        counts = np.add(counts, single_simulation(n))\n",
    "        \n",
    "    # For each integer k, output the overall percentage of buckets with k objects\n",
    "    answer = [0 for k in range(n+1)]\n",
    "    for i in range(n+1):\n",
    "        answer[i] = round(counts[i]/n/r,4)\n",
    "    return answer"
   ]
  },
  {
   "cell_type": "code",
   "execution_count": 2,
   "metadata": {},
   "outputs": [
    {
     "data": {
      "text/plain": [
       "[0.3488, 0.3874, 0.1946, 0.0556, 0.0115, 0.002, 0.0001, 0.0, 0.0, 0.0, 0.0]"
      ]
     },
     "execution_count": 2,
     "metadata": {},
     "output_type": "execute_result"
    }
   ],
   "source": [
    "# For N=10, run the simulation r=1000 times\n",
    "full_simulation(10,1000)"
   ]
  },
  {
   "cell_type": "code",
   "execution_count": 3,
   "metadata": {},
   "outputs": [
    {
     "data": {
      "text/plain": [
       "[0.3673, 0.3677, 0.1856, 0.061, 0.0149, 0.003, 0.0006, 0.0, 0.0, 0.0, 0.0]"
      ]
     },
     "execution_count": 3,
     "metadata": {},
     "output_type": "execute_result"
    }
   ],
   "source": [
    "# For N=100, run the simulation r=1000 times\n",
    "# Only print the results for k=0 to k=10\n",
    "full_simulation(100,1000)[0:11]"
   ]
  },
  {
   "cell_type": "code",
   "execution_count": 4,
   "metadata": {},
   "outputs": [
    {
     "data": {
      "text/plain": [
       "[0.3673, 0.3686, 0.184, 0.0615, 0.015, 0.003, 0.0005, 0.0001, 0.0, 0.0, 0.0]"
      ]
     },
     "execution_count": 4,
     "metadata": {},
     "output_type": "execute_result"
    }
   ],
   "source": [
    "# For N=1000, run the simulation r=1000 times\n",
    "# Only print the results for k=0 to k=10\n",
    "full_simulation(1000,1000)[0:11]"
   ]
  },
  {
   "cell_type": "code",
   "execution_count": 5,
   "metadata": {},
   "outputs": [
    {
     "data": {
      "text/plain": [
       "0.36787944117144233"
      ]
     },
     "execution_count": 5,
     "metadata": {},
     "output_type": "execute_result"
    }
   ],
   "source": [
    "# For a large enough N (e.g. N=100, N=1000), conjecture the probability that\n",
    "# a randomly-chosen box has exactly k objects.\n",
    "# Hint: 1/e is approximately 0.368 = 36.8%\n",
    "\n",
    "1/math.e"
   ]
  }
 ],
 "metadata": {
  "kernelspec": {
   "display_name": "Python 3",
   "language": "python",
   "name": "python3"
  },
  "language_info": {
   "codemirror_mode": {
    "name": "ipython",
    "version": 3
   },
   "file_extension": ".py",
   "mimetype": "text/x-python",
   "name": "python",
   "nbconvert_exporter": "python",
   "pygments_lexer": "ipython3",
   "version": "3.7.3"
  }
 },
 "nbformat": 4,
 "nbformat_minor": 2
}
