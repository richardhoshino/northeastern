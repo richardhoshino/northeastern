{
 "cells": [
  {
   "cell_type": "code",
   "execution_count": 1,
   "metadata": {},
   "outputs": [],
   "source": [
    "# Method 1 - Recursion\n",
    "\n",
    "def recursion(p, n):\n",
    "    if n==0: return 0\n",
    "    else:\n",
    "        best = 0\n",
    "        for i in range(1,n+1):\n",
    "            # print(\"Now checking these values of i and n:\", i, n)\n",
    "            best = max(best, p[i]+recursion(p, n-i))\n",
    "        return best"
   ]
  },
  {
   "cell_type": "code",
   "execution_count": 2,
   "metadata": {},
   "outputs": [
    {
     "data": {
      "text/plain": [
       "19"
      ]
     },
     "execution_count": 2,
     "metadata": {},
     "output_type": "execute_result"
    }
   ],
   "source": [
    "prices = [0,3,5,9,13,14,18]\n",
    "recursion(prices, 6)"
   ]
  },
  {
   "cell_type": "code",
   "execution_count": 3,
   "metadata": {},
   "outputs": [],
   "source": [
    "# Method 2 - Bottom-Up Dynamic Programming\n",
    "\n",
    "def dynamic(p, n):\n",
    "    r = [0 for j in range(n+1)]\n",
    "    for j in range(1, n+1):\n",
    "        best = 0\n",
    "        for i in range(1, j+1):\n",
    "            # print(\"Now checking these values of i and n:\", i, n)\n",
    "            best = max(best, p[i]+r[j-i])\n",
    "        r[j] = best\n",
    "        # print(\"Best solution for length\", j, \"is\", r[j])\n",
    "    return r[n]"
   ]
  },
  {
   "cell_type": "code",
   "execution_count": 4,
   "metadata": {},
   "outputs": [
    {
     "data": {
      "text/plain": [
       "19"
      ]
     },
     "execution_count": 4,
     "metadata": {},
     "output_type": "execute_result"
    }
   ],
   "source": [
    "prices = [0,3,5,9,13,14,18]\n",
    "dynamic(prices, 6)"
   ]
  },
  {
   "cell_type": "code",
   "execution_count": 5,
   "metadata": {},
   "outputs": [
    {
     "data": {
      "text/plain": [
       "70000"
      ]
     },
     "execution_count": 5,
     "metadata": {},
     "output_type": "execute_result"
    }
   ],
   "source": [
    "# Let's run our Bottom-Up Dynamic Programming Algorithm \n",
    "# for n=1000 and see how long it takes.\n",
    "\n",
    "import random\n",
    "import time\n",
    "\n",
    "n = 1000\n",
    "prices = [0 for i in range(n+1)]\n",
    "for i in range(1, n+1):\n",
    "    prices[i] = prices[i-1] + random.randint(1,100)\n",
    "    \n",
    "startTime = time.time()\n",
    "dynamic(prices,n)"
   ]
  },
  {
   "cell_type": "code",
   "execution_count": 6,
   "metadata": {},
   "outputs": [
    {
     "name": "stdout",
     "output_type": "stream",
     "text": [
      "Total computation time 0.14501714706420898 seconds.  Hashtag FACTS!\n"
     ]
    }
   ],
   "source": [
    "totalTime = time.time()-startTime\n",
    "print(\"Total computation time\", totalTime, \"seconds.  Hashtag FACTS!\")"
   ]
  },
  {
   "cell_type": "code",
   "execution_count": null,
   "metadata": {},
   "outputs": [],
   "source": []
  }
 ],
 "metadata": {
  "kernelspec": {
   "display_name": "Python 3",
   "language": "python",
   "name": "python3"
  },
  "language_info": {
   "codemirror_mode": {
    "name": "ipython",
    "version": 3
   },
   "file_extension": ".py",
   "mimetype": "text/x-python",
   "name": "python",
   "nbconvert_exporter": "python",
   "pygments_lexer": "ipython3",
   "version": "3.7.3"
  }
 },
 "nbformat": 4,
 "nbformat_minor": 2
}
