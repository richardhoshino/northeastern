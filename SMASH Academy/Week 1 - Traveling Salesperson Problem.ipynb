{
 "cells": [
  {
   "cell_type": "code",
   "execution_count": 1,
   "metadata": {},
   "outputs": [],
   "source": [
    "'''\n",
    "    SMASH Summer 2021\n",
    "    STEM Elective 2\n",
    "    Limitations of computing -- how many cities?\n",
    "    \n",
    "    Together, we'll add code to:\n",
    "    - Count the number of cities we're testing\n",
    "    - Time how long it takes the program to run. \n",
    "    \n",
    "    Once you've added all the new code...\n",
    "    Add ONE CITY at a time, run the program\n",
    "    \n",
    "'''\n",
    "\n",
    "import random\n",
    "import time\n",
    "\n",
    "def permutation(lst):\n",
    "    ''' Return all possible permutations of the items in the given list '''\n",
    " \n",
    "    # If lst is empty then there are no permutations\n",
    "    if len(lst) == 0:\n",
    "        return []\n",
    " \n",
    "    # If there is only one element in lst then, only\n",
    "    # one permutation is possible\n",
    "    if len(lst) == 1:\n",
    "        return [lst]\n",
    " \n",
    "    # Find the permutations for lst if there are\n",
    "    # more than 1 characters\n",
    " \n",
    "    l = [] # empty list that will store current permutation\n",
    " \n",
    "    # Iterate the input(lst) and calculate the permutation\n",
    "    for i in range(len(lst)):\n",
    "        m = lst[i]\n",
    " \n",
    "        # Extract lst[i] or m from the list.  remLst is\n",
    "        # remaining list\n",
    "        remLst = lst[:i] + lst[i+1:]\n",
    " \n",
    "        # Generating all permutations where m is first\n",
    "        # element\n",
    "        for p in permutation(remLst):\n",
    "            l.append([m] + p)\n",
    "    return l\n",
    "    \n",
    "\n",
    "def find_min(lst):\n",
    "    ''' Return the position of the smallest thing in the list '''\n",
    "    min = sum(lst[0])\n",
    "    min_loc = 0\n",
    "    for i in range(len(lst)):\n",
    "        dist = sum(lst[i])\n",
    "    if dist < min:\n",
    "        min = dist\n",
    "        min_loc = i\n",
    "    return min_loc"
   ]
  },
  {
   "cell_type": "code",
   "execution_count": 2,
   "metadata": {},
   "outputs": [
    {
     "name": "stdout",
     "output_type": "stream",
     "text": [
      "Best path is ['boston', 'new york', 'la', 'chicago', 'des moines', 'seattle'] which has total distance 278\n",
      "On 6 the experiment took: 0.0030019283294677734\n"
     ]
    }
   ],
   "source": [
    "# Start with a list of U.S. cities\n",
    "cities = [\"boston\", \"new york\", \"la\", \"chicago\", \"des moines\", \"seattle\"]\n",
    "\n",
    "# Get the start time and the number of cities\n",
    "start = time.time()\n",
    "num_cities = len(cities)\n",
    "\n",
    "# List out all permutations, and generate distances\n",
    "perms = permutation(cities[1:])\n",
    "perms = [[\"boston\"] + perm for perm in perms]\n",
    "dist = [[random.randint(5, 100) for city in p] for p in perms]\n",
    "\n",
    "# Find the shortest-distance way to visit all cities\n",
    "smalld = find_min(dist)\n",
    "print(\"Best path is\", perms[smalld], \"which has total distance\", sum(dist[smalld]))\n",
    "\n",
    "# Calculate how long it took and print the result\n",
    "end = time.time()\n",
    "print(\"On\", num_cities, \"the experiment took:\", end - start)\n"
   ]
  },
  {
   "cell_type": "code",
   "execution_count": null,
   "metadata": {},
   "outputs": [],
   "source": []
  }
 ],
 "metadata": {
  "kernelspec": {
   "display_name": "Python 3",
   "language": "python",
   "name": "python3"
  },
  "language_info": {
   "codemirror_mode": {
    "name": "ipython",
    "version": 3
   },
   "file_extension": ".py",
   "mimetype": "text/x-python",
   "name": "python",
   "nbconvert_exporter": "python",
   "pygments_lexer": "ipython3",
   "version": "3.7.3"
  }
 },
 "nbformat": 4,
 "nbformat_minor": 2
}
