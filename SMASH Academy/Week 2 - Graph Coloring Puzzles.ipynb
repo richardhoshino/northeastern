{
 "cells": [
  {
   "cell_type": "code",
   "execution_count": null,
   "metadata": {
    "id": "kZU9f3Jv8bUe"
   },
   "outputs": [],
   "source": [
    "# Install various Python packages needed to create and plot graphs\n",
    "import grinpy as gp\n",
    "import networkx as nx\n",
    "import matplotlib.pyplot as plt"
   ]
  },
  {
   "cell_type": "code",
   "execution_count": null,
   "metadata": {
    "id": "y1Ud7qOo-FV3"
   },
   "outputs": [],
   "source": [
    "# In this code block, we define a function called \"OptimalColoring\" that inputs\n",
    "# a graph G and outputs an assignment of colors to vertices, where the number\n",
    "# of colors used is as few as possible.  This \"graph coloring\" technique is\n",
    "# how we solved both Problems #1 and #2, converting a hard problem into an\n",
    "# equivalent simpler problem.\n",
    "\n",
    "def OptimalColoring(G):\n",
    "\n",
    "    # Determine the number of vertices in graph G.\n",
    "    Vertices = nx.nodes(G)\n",
    "    \n",
    "    # Calculate the \"Chromatic Number\" of an input graph G, i.e., the fewest\n",
    "    # number of colors needed to color graph G so that each edge connects\n",
    "    # two points with two different colors.  We rely on an open-source\n",
    "    # Python program that automatically makes this computation.\n",
    "    ChromaticNumber = gp.chromatic_number(G)\n",
    "    \n",
    "    # Find one way to color the vertices of graph G to achieve the best\n",
    "    # possible result, i.e., a coloring with as few colors as possible.\n",
    "    SolvedProblem = False\n",
    "    while SolvedProblem == False:\n",
    "        OurColoring = nx.coloring.greedy_color(G, strategy=\"random_sequential\")\n",
    "        ColorsUsed = max(OurColoring[v] for v in Vertices)+1\n",
    "        if ColorsUsed == ChromaticNumber:\n",
    "            SolvedProblem = True\n",
    "\n",
    "    # Print the result of the above step.  Python is quirky in that the \n",
    "    # first integer is 0, not 1.  Fix this by adding 1, to ensure that the \n",
    "    # first color that we use is 1, rather than 0.\n",
    "    print(\"We require\", ColorsUsed, \"colors in an optimal coloring\")\n",
    "    for c in range(ColorsUsed):\n",
    "        print(\"\")\n",
    "        print(\"Color\", c+1, \"is given to\")\n",
    "        for v in Vertices:\n",
    "            if OurColoring[v]==c:\n",
    "                print(v)"
   ]
  },
  {
   "cell_type": "code",
   "execution_count": null,
   "metadata": {
    "id": "j0LzknIZ-FfN"
   },
   "outputs": [],
   "source": [
    "# Input the data from Problem 1 (USA States)\n",
    "# NOTE: IN THE BREAKOUT ACTIVITY, YOU WILL EDIT THIS CELL\n",
    "\n",
    "AmericanStates = ['Washington', 'Oregon', 'Idaho', 'California', 'Nevada', 'Utah', 'Arizona']\n",
    "\n",
    "BorderList = []\n",
    "BorderList.append(['Washington', 'Oregon'])\n",
    "BorderList.append(['Washington', 'Idaho'])\n",
    "BorderList.append(['Oregon', 'Idaho'])\n",
    "BorderList.append(['Oregon', 'California'])\n",
    "BorderList.append(['Oregon', 'Nevada'])\n",
    "BorderList.append(['Idaho', 'Nevada'])\n",
    "BorderList.append(['Idaho', 'Utah'])\n",
    "BorderList.append(['California', 'Nevada'])\n",
    "BorderList.append(['Nevada', 'Utah'])\n",
    "BorderList.append(['California', 'Arizona'])\n",
    "BorderList.append(['Nevada', 'Arizona'])\n",
    "BorderList.append(['Utah', 'Arizona'])"
   ]
  },
  {
   "cell_type": "code",
   "execution_count": null,
   "metadata": {
    "colab": {
     "base_uri": "https://localhost:8080/",
     "height": 579
    },
    "id": "p-QDJfTm-Fmz",
    "outputId": "52027efb-73ea-42c4-c7cb-e3fb00a67cfc"
   },
   "outputs": [],
   "source": [
    "# Convert the information above into a graph G.  First we create the vertices\n",
    "# of our graph, which are precisely the set of Western US States.\n",
    "G = nx.Graph()\n",
    "G.add_nodes_from(AmericanStates)\n",
    "Vertices = list(G.nodes)\n",
    "\n",
    "# For each pair (i,j) of integers, with i<j, check whether US State i and \n",
    "# US State j share a border.  If they do, that's a conflict, and so we must \n",
    "# add the edge joining States i and j to our graph G.\n",
    "n = nx.number_of_nodes(G)\n",
    "for i in range(n):\n",
    "    for j in range(i+1,n):\n",
    "        if [Vertices[i],Vertices[j]] in BorderList:\n",
    "            G.add_edge(Vertices[i], Vertices[j])\n",
    "        if [Vertices[j],Vertices[i]] in BorderList:\n",
    "            G.add_edge(Vertices[j], Vertices[i])\n",
    "    \n",
    "# Generate the optimal coloring of graph G, using our function above\n",
    "OptimalColoring(G)\n",
    "\n",
    "# Draw our graph G\n",
    "nx.draw(G, with_labels=True, pos=nx.spring_layout(G))\n",
    "plt.draw()"
   ]
  },
  {
   "cell_type": "code",
   "execution_count": null,
   "metadata": {
    "id": "KG8U4yQO-RdT"
   },
   "outputs": [],
   "source": [
    "# Input the data from Problem 2 (Student Scheduling)\n",
    "# NOTE: IN THE BREAKOUT ACTIVITY, YOU WILL EDIT THIS CELL\n",
    "\n",
    "CourseList = ['Astronomy', 'Biology', 'ComputerScience', 'Dance', 'Engineering', 'FoodSecurity', 'Geology']\n",
    "ClassList = [ [] for ClassName in CourseList]\n",
    "\n",
    "ClassList[0] = ['Maryam', 'Iris', 'Jayden']\n",
    "ClassList[1] = ['Jayden', 'Leilani']\n",
    "ClassList[2] = ['Roselym', 'Maryam']\n",
    "ClassList[3] = ['Maryam', 'Phalen', 'Kamaal']\n",
    "ClassList[4] = ['Roselym', 'Iris', 'Leilani'] \n",
    "ClassList[5] = ['Honey', 'Phalen', 'Iris']\n",
    "ClassList[6] = ['Honey', 'Kamaal']"
   ]
  },
  {
   "cell_type": "code",
   "execution_count": null,
   "metadata": {
    "colab": {
     "base_uri": "https://localhost:8080/",
     "height": 545
    },
    "id": "5ora2W9--Xjd",
    "outputId": "30461671-914c-4700-ed14-b6abe28a68ec"
   },
   "outputs": [],
   "source": [
    "# Convert the information above into a graph G.  First we create the vertices\n",
    "# of our graph, which are precisely the set of courses.\n",
    "G = nx.Graph()\n",
    "G.add_nodes_from(CourseList)\n",
    "Vertices = list(G.nodes)\n",
    "\n",
    "# For each pair (i,j) of integers, with i<j, check whether the class lists of \n",
    "# Course i and Course j have any common students.  If they do, that's a \n",
    "# conflict, and so we must add edge (i,j) to our graph G.\n",
    "n = nx.number_of_nodes(G)\n",
    "for i in range(n):\n",
    "    for j in range(i+1,n):\n",
    "        CommonStudents = set(ClassList[i]).intersection(ClassList[j])\n",
    "        if len(CommonStudents)>0:\n",
    "            G.add_edge(Vertices[i], Vertices[j])\n",
    "    \n",
    "# Generate the optimal coloring of graph G, using our function above\n",
    "OptimalColoring(G)\n",
    "\n",
    "# Draw our graph G\n",
    "nx.draw(G, with_labels=True, pos=nx.spring_layout(G))\n",
    "plt.draw()"
   ]
  },
  {
   "cell_type": "code",
   "execution_count": null,
   "metadata": {},
   "outputs": [],
   "source": []
  }
 ],
 "metadata": {
  "colab": {
   "collapsed_sections": [],
   "name": "Scheduling.ipynb",
   "provenance": []
  },
  "kernelspec": {
   "display_name": "Python 3",
   "language": "python",
   "name": "python3"
  },
  "language_info": {
   "codemirror_mode": {
    "name": "ipython",
    "version": 3
   },
   "file_extension": ".py",
   "mimetype": "text/x-python",
   "name": "python",
   "nbconvert_exporter": "python",
   "pygments_lexer": "ipython3",
   "version": "3.7.3"
  }
 },
 "nbformat": 4,
 "nbformat_minor": 1
}
